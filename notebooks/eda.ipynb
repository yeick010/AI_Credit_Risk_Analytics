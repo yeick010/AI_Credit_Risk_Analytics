{
 "cells": [
  {
   "cell_type": "markdown",
   "id": "dd7cd108",
   "metadata": {},
   "source": [
    "# 📊 Exploratory Data Analysis (EDA)\n",
    "Questo notebook esegue l'analisi esplorativa dei dati (EDA) per il progetto **AI Credit Risk Analytics**.\n"
   ]
  },
  {
   "cell_type": "code",
   "execution_count": null,
   "id": "2eec836b",
   "metadata": {},
   "outputs": [],
   "source": [
    "# Import delle librerie\n",
    "import pandas as pd\n",
    "import matplotlib.pyplot as plt\n",
    "import seaborn as sns\n",
    "\n",
    "# Caricamento dei dati\n",
    "df = pd.read_csv(\"../data/german_credit.csv\")\n",
    "\n",
    "# Mostra le prime righe del dataset\n",
    "df.head()\n"
   ]
  },
  {
   "cell_type": "code",
   "execution_count": null,
   "id": "fe2d776f",
   "metadata": {},
   "outputs": [],
   "source": [
    "# Informazioni generali sui dati\n",
    "df.info()\n",
    "df.describe()\n"
   ]
  },
  {
   "cell_type": "code",
   "execution_count": null,
   "id": "be2b131d",
   "metadata": {},
   "outputs": [],
   "source": [
    "# Controlliamo la distribuzione delle variabili categoriche\n",
    "categorical_cols = df.select_dtypes(include=['object']).columns\n",
    "\n",
    "for col in categorical_cols:\n",
    "    plt.figure(figsize=(8, 4))\n",
    "    sns.countplot(x=col, data=df)\n",
    "    plt.xticks(rotation=45)\n",
    "    plt.title(f\"Distribuzione della variabile {col}\")\n",
    "    plt.show()\n"
   ]
  },
  {
   "cell_type": "code",
   "execution_count": null,
   "id": "e78703a3",
   "metadata": {},
   "outputs": [],
   "source": [
    "# Matrice di correlazione per le feature numeriche\n",
    "plt.figure(figsize=(10, 6))\n",
    "sns.heatmap(df.corr(), annot=True, cmap=\"coolwarm\", fmt=\".2f\")\n",
    "plt.title(\"Matrice di Correlazione\")\n",
    "plt.show()\n"
   ]
  },
  {
   "cell_type": "code",
   "execution_count": null,
   "id": "6bc3d62b",
   "metadata": {},
   "outputs": [],
   "source": [
    "# Analisi dei valori nulli\n",
    "missing_values = df.isnull().sum()\n",
    "missing_values = missing_values[missing_values > 0]\n",
    "\n",
    "if not missing_values.empty:\n",
    "    print(\"Valori nulli trovati:\")\n",
    "    print(missing_values)\n",
    "else:\n",
    "    print(\"Nessun valore nullo nel dataset.\")\n"
   ]
  }
 ],
 "metadata": {},
 "nbformat": 4,
 "nbformat_minor": 5
}
